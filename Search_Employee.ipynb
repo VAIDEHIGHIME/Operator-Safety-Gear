{
 "cells": [
  {
   "cell_type": "code",
   "execution_count": 7,
   "metadata": {},
   "outputs": [
    {
     "name": "stdout",
     "output_type": "stream",
     "text": [
      "[('Vaidehi Ghime', 'vaidehighime@gmail.com', 'F', 'A', 'bt16cse015', 'bt16cse015', '2018-09-21 06:33:53', 'Absent'), ('Vaidehi Ghime', 'vaidehighime@gmail.com', 'F', 'A', 'bt16cse015', 'bt16cse015', '2018-09-21 07:34:33', 'Present'), ('Vaidehi Ghime', 'vaidehighime@gmail.com', 'F', 'A', 'bt16cse015', 'bt16cse015', '2018-09-21 07:36:52', 'Absent'), ('Vaidehi Ghime', 'vaidehighime@gmail.com', 'F', 'A', 'bt16cse015', 'bt16cse015', '2018-09-21 07:39:41', 'Absent'), ('Vaidehi Ghime', 'vaidehighime@gmail.com', 'F', 'A', 'bt16cse015', 'bt16cse015', '2018-09-21 07:43:10', 'Absent'), ('Vaidehi Ghime', 'vaidehighime@gmail.com', 'F', 'A', 'bt16cse015', 'bt16cse015', '2018-09-21 07:46:27', 'Present'), ('Vaidehi Ghime', 'vaidehighime@gmail.com', 'F', 'A', 'bt16cse015', 'bt16cse015', '2018-09-21 07:49:26', 'Absent'), ('Vaidehi Ghime', 'vaidehighime@gmail.com', 'F', 'A', 'bt16cse015', 'bt16cse015', '2018-09-21 08:07:25', 'Absent')]\n"
     ]
    }
   ],
   "source": [
    "from tkinter import *\n",
    "import sqlite3\n",
    "import tkinter.messagebox\n",
    "\n",
    "root = Tk()\n",
    "root.geometry('500x500')\n",
    "root.resizable(0, 0)\n",
    "root.title(\"Search Employee\")\n",
    "\n",
    "empID= StringVar()\n",
    "\n",
    "def Search():\n",
    "    LempID=empID.get()\n",
    "    conn = sqlite3.connect('OperatorSafetyGear.db')\n",
    "    with conn:\n",
    "        cursor=conn.cursor()\n",
    "    cursor = conn.execute('SELECT * FROM Employee_details,Employee_Attendance WHERE Employee_details.EmployeeID=? AND Employee_Attendance.EmployeeID=?',(LempID,LempID,)) \n",
    "    if(cursor.rowcount==0):\n",
    "        tkinter.messagebox.showinfo(\"Employee Details\",\"Not Found\")\n",
    "    else:\n",
    "        list=[]\n",
    "        list=cursor.fetchall()\n",
    "        print(list)\n",
    "        tkinter.messagebox.showinfo(\"Employee Details\",list)\n",
    "\n",
    "   \n",
    "             \n",
    "label_0 = Label(root, text=\"Search Employee\",width=20,font=(\"bold\", 20))\n",
    "label_0.place(x=90,y=53)\n",
    "label_1 = Label(root, text=\"Employee ID\",width=20,font=(\"bold\", 10))\n",
    "label_1.place(x=80,y=180)\n",
    "entry_1 = Entry(root,textvar=empID)\n",
    "entry_1.place(x=240,y=180)\n",
    "Button(root, text='Search',width=20,bg='brown',fg='white',command=Search).place(x=180,y=380)\n",
    "root.mainloop()"
   ]
  },
  {
   "cell_type": "code",
   "execution_count": null,
   "metadata": {},
   "outputs": [],
   "source": []
  },
  {
   "cell_type": "code",
   "execution_count": null,
   "metadata": {},
   "outputs": [],
   "source": []
  }
 ],
 "metadata": {
  "kernelspec": {
   "display_name": "Python 3",
   "language": "python",
   "name": "python3"
  },
  "language_info": {
   "codemirror_mode": {
    "name": "ipython",
    "version": 3
   },
   "file_extension": ".py",
   "mimetype": "text/x-python",
   "name": "python",
   "nbconvert_exporter": "python",
   "pygments_lexer": "ipython3",
   "version": "3.5.5"
  }
 },
 "nbformat": 4,
 "nbformat_minor": 2
}
